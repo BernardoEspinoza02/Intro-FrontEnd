{
 "cells": [
  {
   "cell_type": "markdown",
   "metadata": {},
   "source": [
    "# Experiencia de Usuario\n",
    "\n",
    "Acontinuacion se muestra el diseño de la página WEB con su contenido a detalles y colores, especificados por el cliente, asi como la version en dispositivo mobil. \n",
    "\n",
    "# Pagina Principal \n",
    "\n",
    "![image](Wireframe_UI/1.png)\n",
    "\n",
    "## Pagina Principal version movil \n",
    "\n",
    "\n",
    "# Navegación por la pagina WEB\n",
    "\n",
    "\n",
    "# Inicio de Sesión\n",
    "\n",
    "\n",
    "## Inicio se Sesión versión movil\n",
    "\n",
    "\n",
    "# Método de Contratación\n",
    "\n",
    "\n",
    "## Método de Contratacion versión movil \n",
    "\n"
   ]
  }
 ],
 "metadata": {
  "interpreter": {
   "hash": "2be5faf79681da6f2a61fdfdd5405d65d042280f7fba6178067603e3a2925119"
  },
  "kernelspec": {
   "display_name": "Python 3.10.2 64-bit",
   "language": "python",
   "name": "python3"
  },
  "language_info": {
   "name": "python",
   "version": "3.10.2"
  },
  "orig_nbformat": 4
 },
 "nbformat": 4,
 "nbformat_minor": 2
}
