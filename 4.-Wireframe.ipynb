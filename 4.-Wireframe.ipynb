{
 "cells": [
  {
   "cell_type": "markdown",
   "metadata": {},
   "source": [
    "# INTERFAZ DE USUARIO\n",
    "En esta seccion se mostrara el diseño de la interfaz de usuario con ayuda de una software llamado balsamiq donde se muestra en colores monocromaticos, para centrar la atencion en la estructura de la pagina y no tanto en los detalles de vistas.\n",
    "\n",
    "## Pagina principal\n",
    "\n",
    "![image](Wireframe/1.png)\n",
    "\n",
    "## Navegacion por la pagina WEB\n",
    "\n",
    "![image](Wireframe/8.png)\n",
    "\n",
    "## Inicio de Secion\n",
    "\n",
    "\n",
    "## Metodo de compra de Servicios\n",
    "\n",
    
    "\n",
    "## Pagina del Administrador "
    
   ]
  }
 ],
 "metadata": {
  "interpreter": {
   "hash": "2be5faf79681da6f2a61fdfdd5405d65d042280f7fba6178067603e3a2925119"
  },
  "kernelspec": {
   "display_name": "Python 3.10.2 64-bit",
   "language": "python",
   "name": "python3"
  },
  "language_info": {
   "name": "python",
   "version": "3.10.2"
  },
  "orig_nbformat": 4
 },
 "nbformat": 4,
 "nbformat_minor": 2
}
